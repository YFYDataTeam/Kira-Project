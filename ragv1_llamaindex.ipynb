{
 "cells": [
  {
   "cell_type": "code",
   "execution_count": 1,
   "metadata": {},
   "outputs": [
    {
     "name": "stderr",
     "output_type": "stream",
     "text": [
      "c:\\Users\\kira.chou\\AppData\\Local\\miniconda3\\envs\\kira-project\\lib\\site-packages\\tqdm\\auto.py:21: TqdmWarning: IProgress not found. Please update jupyter and ipywidgets. See https://ipywidgets.readthedocs.io/en/stable/user_install.html\n",
      "  from .autonotebook import tqdm as notebook_tqdm\n"
     ]
    }
   ],
   "source": [
    "import pandas as pd\n",
    "from datetime import datetime\n",
    "\n",
    "from IPython.display import display\n",
    "from IPython.display import Markdown\n",
    "\n",
    "from src.utils import read_config, OracleAgent\n",
    "\n",
    "from llama_index.embeddings.huggingface import HuggingFaceEmbedding\n",
    "\n",
    "import chromadb\n",
    "\n",
    "\n",
    "from llama_index.core import VectorStoreIndex, StorageContext, Settings\n",
    "from llama_index.vector_stores.chroma import ChromaVectorStore\n",
    "from llama_index.embeddings.huggingface import HuggingFaceEmbedding\n",
    "\n",
    "\n",
    "from llama_index.core.schema import Document"
   ]
  },
  {
   "cell_type": "code",
   "execution_count": 2,
   "metadata": {},
   "outputs": [
    {
     "data": {
      "text/plain": [
       "'d:\\\\11_coding\\\\Git\\\\Kira-Project'"
      ]
     },
     "execution_count": 2,
     "metadata": {},
     "output_type": "execute_result"
    }
   ],
   "source": [
    "### 查詢根目錄\n",
    "import os\n",
    "os.getcwd()"
   ]
  },
  {
   "cell_type": "code",
   "execution_count": 3,
   "metadata": {},
   "outputs": [],
   "source": [
    "info_path ='.env/info.json'\n",
    "info = read_config(info_path)\n",
    "##info"
   ]
  },
  {
   "cell_type": "code",
   "execution_count": 4,
   "metadata": {},
   "outputs": [
    {
     "data": {
      "text/plain": [
       "{'user': 'YFYDW',\n",
       " 'pw': '!(Yfy123456)',\n",
       " 'host': '10.25.66.64',\n",
       " 'port': '1521',\n",
       " 'service_name': 'biprod'}"
      ]
     },
     "execution_count": 4,
     "metadata": {},
     "output_type": "execute_result"
    }
   ],
   "source": [
    "info['DW_conn_info']"
   ]
  },
  {
   "cell_type": "code",
   "execution_count": 5,
   "metadata": {},
   "outputs": [],
   "source": [
    "Oracle_Agent = OracleAgent(info['DW_conn_info'])"
   ]
  },
  {
   "cell_type": "code",
   "execution_count": 6,
   "metadata": {},
   "outputs": [
    {
     "data": {
      "text/html": [
       "<div>\n",
       "<style scoped>\n",
       "    .dataframe tbody tr th:only-of-type {\n",
       "        vertical-align: middle;\n",
       "    }\n",
       "\n",
       "    .dataframe tbody tr th {\n",
       "        vertical-align: top;\n",
       "    }\n",
       "\n",
       "    .dataframe thead th {\n",
       "        text-align: right;\n",
       "    }\n",
       "</style>\n",
       "<table border=\"1\" class=\"dataframe\">\n",
       "  <thead>\n",
       "    <tr style=\"text-align: right;\">\n",
       "      <th></th>\n",
       "      <th>rowid</th>\n",
       "      <th>dashboard_name</th>\n",
       "      <th>report_name</th>\n",
       "      <th>page_name</th>\n",
       "      <th>pic_name</th>\n",
       "      <th>description</th>\n",
       "      <th>question_candidates</th>\n",
       "    </tr>\n",
       "  </thead>\n",
       "  <tbody>\n",
       "    <tr>\n",
       "      <th>0</th>\n",
       "      <td>AAi0soABZAAAACLAAC</td>\n",
       "      <td>投控經營分析</td>\n",
       "      <td>華紙-營運績效分析月報</td>\n",
       "      <td>紙機生產狀況</td>\n",
       "      <td>紙機生產狀況-得率趨勢圖.jpg</td>\n",
       "      <td>這張圖表顯示的是 2024 年 1 月到 5 月的月度效率數據。圖表上的數字代表各個月的效率...</td>\n",
       "      <td>這張圖片顯示了華紙在2024年1月到5月的紙機生產狀況，以下列出10個關於這張圖片的問題：\\...</td>\n",
       "    </tr>\n",
       "    <tr>\n",
       "      <th>1</th>\n",
       "      <td>AAi0soABZAAAACLAAF</td>\n",
       "      <td>投控經營分析</td>\n",
       "      <td>華紙-營運績效分析月報</td>\n",
       "      <td>號機直接法損益</td>\n",
       "      <td>號機直接法損益-完整畫面.jpg</td>\n",
       "      <td>這張圖片包含了一份營運績效分析月報，其中包含以下指標：\\n\\n**成本**:\\n* 銷貨成本...</td>\n",
       "      <td>這張圖片顯示了華紙的營運績效分析月報，可以回答以下問題：\\n\\n1. **華紙的總成本是多少...</td>\n",
       "    </tr>\n",
       "  </tbody>\n",
       "</table>\n",
       "</div>"
      ],
      "text/plain": [
       "                rowid dashboard_name  report_name page_name          pic_name  \\\n",
       "0  AAi0soABZAAAACLAAC         投控經營分析  華紙-營運績效分析月報    紙機生產狀況  紙機生產狀況-得率趨勢圖.jpg   \n",
       "1  AAi0soABZAAAACLAAF         投控經營分析  華紙-營運績效分析月報   號機直接法損益  號機直接法損益-完整畫面.jpg   \n",
       "\n",
       "                                         description  \\\n",
       "0  這張圖表顯示的是 2024 年 1 月到 5 月的月度效率數據。圖表上的數字代表各個月的效率...   \n",
       "1  這張圖片包含了一份營運績效分析月報，其中包含以下指標：\\n\\n**成本**:\\n* 銷貨成本...   \n",
       "\n",
       "                                 question_candidates  \n",
       "0  這張圖片顯示了華紙在2024年1月到5月的紙機生產狀況，以下列出10個關於這張圖片的問題：\\...  \n",
       "1  這張圖片顯示了華紙的營運績效分析月報，可以回答以下問題：\\n\\n1. **華紙的總成本是多少...  "
      ]
     },
     "execution_count": 6,
     "metadata": {},
     "output_type": "execute_result"
    }
   ],
   "source": [
    "query =query = \"\"\"\n",
    "select rowid, dashboard_name, report_name, page_name, pic_name, llm as description, llm_question as question_candidates\n",
    "from bi_dashboard\n",
    "\"\"\"\n",
    "\n",
    "df_dashboard = Oracle_Agent.read_table(query=query)\n",
    "df_dashboard.head(2)"
   ]
  },
  {
   "cell_type": "code",
   "execution_count": 7,
   "metadata": {},
   "outputs": [],
   "source": [
    "model_name = \"sentence-transformers/distiluse-base-multilingual-cased-v1\"\n",
    "embeddings = HuggingFaceEmbedding(model_name=model_name)"
   ]
  },
  {
   "cell_type": "code",
   "execution_count": 15,
   "metadata": {},
   "outputs": [],
   "source": [
    "chroma_client = chromadb.PersistentClient(path=\"./chroma_db\")\n",
    "chroma_collection = chroma_client.get_or_create_collection(\"DashboardQA\")"
   ]
  },
  {
   "cell_type": "code",
   "execution_count": 16,
   "metadata": {},
   "outputs": [],
   "source": [
    "### list comprehension\n",
    "\n",
    "def df_to_documents(df):\n",
    "   return [Document(text=row['description'], metadata={col: row[col] for col in df.columns if col != 'description'}) for _, row in df.iterrows()]"
   ]
  },
  {
   "cell_type": "code",
   "execution_count": 17,
   "metadata": {},
   "outputs": [
    {
     "data": {
      "text/html": [
       "<div>\n",
       "<style scoped>\n",
       "    .dataframe tbody tr th:only-of-type {\n",
       "        vertical-align: middle;\n",
       "    }\n",
       "\n",
       "    .dataframe tbody tr th {\n",
       "        vertical-align: top;\n",
       "    }\n",
       "\n",
       "    .dataframe thead th {\n",
       "        text-align: right;\n",
       "    }\n",
       "</style>\n",
       "<table border=\"1\" class=\"dataframe\">\n",
       "  <thead>\n",
       "    <tr style=\"text-align: right;\">\n",
       "      <th></th>\n",
       "      <th>rowid</th>\n",
       "      <th>dashboard_name</th>\n",
       "      <th>report_name</th>\n",
       "      <th>page_name</th>\n",
       "      <th>pic_name</th>\n",
       "      <th>description</th>\n",
       "      <th>question_candidates</th>\n",
       "    </tr>\n",
       "  </thead>\n",
       "  <tbody>\n",
       "    <tr>\n",
       "      <th>0</th>\n",
       "      <td>AAi0soABZAAAACLAAC</td>\n",
       "      <td>投控經營分析</td>\n",
       "      <td>華紙-營運績效分析月報</td>\n",
       "      <td>紙機生產狀況</td>\n",
       "      <td>紙機生產狀況-得率趨勢圖.jpg</td>\n",
       "      <td>這張圖表顯示的是 2024 年 1 月到 5 月的月度效率數據。圖表上的數字代表各個月的效率...</td>\n",
       "      <td>這張圖片顯示了華紙在2024年1月到5月的紙機生產狀況，以下列出10個關於這張圖片的問題：\\...</td>\n",
       "    </tr>\n",
       "    <tr>\n",
       "      <th>1</th>\n",
       "      <td>AAi0soABZAAAACLAAF</td>\n",
       "      <td>投控經營分析</td>\n",
       "      <td>華紙-營運績效分析月報</td>\n",
       "      <td>號機直接法損益</td>\n",
       "      <td>號機直接法損益-完整畫面.jpg</td>\n",
       "      <td>這張圖片包含了一份營運績效分析月報，其中包含以下指標：\\n\\n**成本**:\\n* 銷貨成本...</td>\n",
       "      <td>這張圖片顯示了華紙的營運績效分析月報，可以回答以下問題：\\n\\n1. **華紙的總成本是多少...</td>\n",
       "    </tr>\n",
       "  </tbody>\n",
       "</table>\n",
       "</div>"
      ],
      "text/plain": [
       "                rowid dashboard_name  report_name page_name          pic_name  \\\n",
       "0  AAi0soABZAAAACLAAC         投控經營分析  華紙-營運績效分析月報    紙機生產狀況  紙機生產狀況-得率趨勢圖.jpg   \n",
       "1  AAi0soABZAAAACLAAF         投控經營分析  華紙-營運績效分析月報   號機直接法損益  號機直接法損益-完整畫面.jpg   \n",
       "\n",
       "                                         description  \\\n",
       "0  這張圖表顯示的是 2024 年 1 月到 5 月的月度效率數據。圖表上的數字代表各個月的效率...   \n",
       "1  這張圖片包含了一份營運績效分析月報，其中包含以下指標：\\n\\n**成本**:\\n* 銷貨成本...   \n",
       "\n",
       "                                 question_candidates  \n",
       "0  這張圖片顯示了華紙在2024年1月到5月的紙機生產狀況，以下列出10個關於這張圖片的問題：\\...  \n",
       "1  這張圖片顯示了華紙的營運績效分析月報，可以回答以下問題：\\n\\n1. **華紙的總成本是多少...  "
      ]
     },
     "execution_count": 17,
     "metadata": {},
     "output_type": "execute_result"
    }
   ],
   "source": [
    "\n",
    "df_dashboard.head(2)"
   ]
  },
  {
   "cell_type": "code",
   "execution_count": 18,
   "metadata": {},
   "outputs": [],
   "source": [
    "documents=df_to_documents(df_dashboard)"
   ]
  },
  {
   "cell_type": "code",
   "execution_count": 19,
   "metadata": {},
   "outputs": [],
   "source": [
    "# store in vectordb\n",
    "Settings.chunk_size = 1024\n",
    "Settings.chunk_overlap = 50\n",
    "vector_store = ChromaVectorStore(chroma_collection=chroma_collection)\n",
    "storage_context = StorageContext.from_defaults(vector_store=vector_store)\n",
    "vector_store_index = VectorStoreIndex.from_documents(\n",
    "   documents=documents,\n",
    "   storage_context=storage_context,\n",
    "   embed_model=embeddings\n",
    ")"
   ]
  },
  {
   "cell_type": "code",
   "execution_count": 21,
   "metadata": {},
   "outputs": [],
   "source": [
    "# load from disk\n",
    "\n",
    "db2 = chromadb.PersistentClient(path=\"./chroma_db\")\n",
    "chroma_collection = db2.get_or_create_collection(\"DashboardQA\")\n",
    "vector_store = ChromaVectorStore(chroma_collection=chroma_collection)\n",
    "index = VectorStoreIndex.from_vector_store(\n",
    "   vector_store,\n",
    "   embed_model=embeddings,\n",
    ")"
   ]
  },
  {
   "cell_type": "code",
   "execution_count": 26,
   "metadata": {},
   "outputs": [
    {
     "data": {
      "text/markdown": [
       "Node ID: 7341202f-8f9c-406d-84d6-6af38124410e\n",
       "Text: This table shows the monthly operational performance analysis of\n",
       "Hua Shi paper making machine profit and loss.  It includes the\n",
       "following analysis indicators:  **Product:** PM1, PM2, PM7, Total,\n",
       "Combined total  **Product Types:**  Raw materials, finished products,\n",
       "subtotals   **Indicators:**    * Sales revenue * Cost of goods sold *\n",
       "Gross profit...\n",
       "Score:  0.229\n"
      ],
      "text/plain": [
       "<IPython.core.display.Markdown object>"
      ]
     },
     "metadata": {},
     "output_type": "display_data"
    }
   ],
   "source": [
    "# Query Data from the persisted index\n",
    "query_engine = index.as_retriever(similarity_top_k=3)\n",
    "response = query_engine.retrieve(\"\"\"              \n",
    "哪張表格包含\n",
    "淨利、稅前淨利、稅後淨利\n",
    "\"\"\")\n",
    "display(Markdown(f\"{response[0]}\"))\n"
   ]
  },
  {
   "cell_type": "code",
   "execution_count": 25,
   "metadata": {},
   "outputs": [
    {
     "data": {
      "text/plain": [
       "[NodeWithScore(node=TextNode(id_='7341202f-8f9c-406d-84d6-6af38124410e', embedding=None, metadata={'rowid': 'AAi0soABZAAAACXAAG', 'dashboard_name': '投控經營分析', 'report_name': '華紙-營運績效分析月報', 'page_name': '紙機別損益', 'pic_name': '紙機別損益-完整畫面.jpg', 'question_candidates': '這張圖片看起來像一張營運績效分析月報表，它呈現了華紙的營運狀況，可以回答以下問題：\\n\\n1. 這是哪個月的報表？\\n2. 報表中顯示了哪些紙機別？\\n3. 每個紙機別的銷售額是多少？\\n4. 每個紙機別的毛利是多少？\\n5. 每個紙機別的毛利率是多少？\\n6. 每個紙機別的營運成本是多少？\\n7. 每個紙機別的淨利是多少？\\n8. 每個紙機別的淨利率是多少？\\n9. 不同紙機別的營運表現有什麼差異？\\n10. 總體而言，華紙的營運表現如何？\\n'}, excluded_embed_metadata_keys=[], excluded_llm_metadata_keys=[], relationships={<NodeRelationship.SOURCE: '1'>: RelatedNodeInfo(node_id='9549ee48-98b2-4223-892a-2ff8a5af2c6d', node_type=<ObjectType.DOCUMENT: '4'>, metadata={'rowid': 'AAi0soABZAAAACXAAG', 'dashboard_name': '投控經營分析', 'report_name': '華紙-營運績效分析月報', 'page_name': '紙機別損益', 'pic_name': '紙機別損益-完整畫面.jpg', 'question_candidates': '這張圖片看起來像一張營運績效分析月報表，它呈現了華紙的營運狀況，可以回答以下問題：\\n\\n1. 這是哪個月的報表？\\n2. 報表中顯示了哪些紙機別？\\n3. 每個紙機別的銷售額是多少？\\n4. 每個紙機別的毛利是多少？\\n5. 每個紙機別的毛利率是多少？\\n6. 每個紙機別的營運成本是多少？\\n7. 每個紙機別的淨利是多少？\\n8. 每個紙機別的淨利率是多少？\\n9. 不同紙機別的營運表現有什麼差異？\\n10. 總體而言，華紙的營運表現如何？\\n'}, hash='3e8e4a682c54af116e64e99ddff4b6a0094d358a32cde90587e75ee6080d6fa4')}, text='This table shows the monthly operational performance analysis of Hua Shi paper making machine profit and loss.  It includes the following analysis indicators:\\n\\n**Product:** PM1, PM2, PM7, Total, Combined total\\n\\n**Product Types:**  Raw materials, finished products, subtotals \\n\\n**Indicators:**  \\n\\n* Sales revenue\\n* Cost of goods sold\\n* Gross profit\\n* Unit price\\n* Inside cost of goods sold\\n* Inside gross profit\\n* Outside cost of goods sold\\n* Outside gross profit\\n* Gross profit rate\\n* Fixed cost\\n* Sales profit\\n* Sales profit rate\\n* Inventory\\n* Receivables\\n* Fixed asset depreciation\\n* Direct material cost\\n* Variable cost\\n* Total profit and loss\\n\\nYou can use this table to find specific product performance data, such as sales revenue, cost of goods sold, and profit, for each product type. You can also see how each product type has performed over time by comparing the data from different months.\\n\\nFor example, if you are interested in the profit and loss of finished products for PM1, you can find this information in the row labeled \"Finished products\" under the \"PM1\" column. You can also see the sales profit rate and total profit and loss for PM1.\\n\\nThis table is a valuable tool for anyone who wants to understand the operational performance of Hua Shi paper making machine.', mimetype='text/plain', start_char_idx=0, end_char_idx=1282, text_template='{metadata_str}\\n\\n{content}', metadata_template='{key}: {value}', metadata_seperator='\\n'), score=0.22921246577093632),\n",
       " NodeWithScore(node=TextNode(id_='62b002b3-12f1-456d-ae0a-4e7668cf3416', embedding=None, metadata={'rowid': 'AAi0soABZAAAACLAAF', 'dashboard_name': '投控經營分析', 'report_name': '華紙-營運績效分析月報', 'page_name': '號機直接法損益', 'pic_name': '號機直接法損益-完整畫面.jpg', 'question_candidates': '這張圖片顯示了華紙的營運績效分析月報，可以回答以下問題：\\n\\n1. **華紙的總成本是多少？** \\n2. **PM01 的銷售成本是多少？** \\n3. **PM02 的毛利是多少？** \\n4. **總公司的管理費用是多少？** \\n5. **PM01 的固定銷售費用是多少？** \\n6. **PM02 的固定銷售研發是多少？** \\n7. **總公司的營業收入是多少？** \\n8. **總公司的營業利益是多少？** \\n9. **總公司的稅前淨利是多少？** \\n10. **總公司的稅後淨利是多少？**\\n'}, excluded_embed_metadata_keys=[], excluded_llm_metadata_keys=[], relationships={<NodeRelationship.SOURCE: '1'>: RelatedNodeInfo(node_id='0cba8486-c5ca-41b9-8fe9-11406f9baa56', node_type=<ObjectType.DOCUMENT: '4'>, metadata={'rowid': 'AAi0soABZAAAACLAAF', 'dashboard_name': '投控經營分析', 'report_name': '華紙-營運績效分析月報', 'page_name': '號機直接法損益', 'pic_name': '號機直接法損益-完整畫面.jpg', 'question_candidates': '這張圖片顯示了華紙的營運績效分析月報，可以回答以下問題：\\n\\n1. **華紙的總成本是多少？** \\n2. **PM01 的銷售成本是多少？** \\n3. **PM02 的毛利是多少？** \\n4. **總公司的管理費用是多少？** \\n5. **PM01 的固定銷售費用是多少？** \\n6. **PM02 的固定銷售研發是多少？** \\n7. **總公司的營業收入是多少？** \\n8. **總公司的營業利益是多少？** \\n9. **總公司的稅前淨利是多少？** \\n10. **總公司的稅後淨利是多少？**\\n'}, hash='98c6499097411e21bab36e34e5c914229dd5556d51142c5a606b3781ac099590')}, text='這張圖片包含了一份營運績效分析月報，其中包含以下指標：\\n\\n**成本**:\\n* 銷貨成本\\n* 原物料成本\\n* 燃料\\n* 其他成本\\n\\n**銷售**:\\n* 銷貨收入\\n* 營業成本\\n* 營業毛利\\n* 營業費用\\n\\n**費用**:\\n* 製造費用\\n* 銷售費用\\n* 管理費用\\n\\n**淨利**:\\n* 稅前淨利\\n* 稅後淨利\\n\\n**其他**:\\n* 損益表\\n* 損益\\n* 銷售額\\n* 銷貨量\\n* 存貨\\n* 應收帳款\\n* 應付帳款\\n* 固定資產\\n* 流動資產\\n* 負債\\n* 股東權益\\n\\n這些指標可以幫助使用者了解公司在特定時期的財務狀況和營運績效。', mimetype='text/plain', start_char_idx=0, end_char_idx=263, text_template='{metadata_str}\\n\\n{content}', metadata_template='{key}: {value}', metadata_seperator='\\n'), score=0.22216105463917238)]"
      ]
     },
     "execution_count": 25,
     "metadata": {},
     "output_type": "execute_result"
    }
   ],
   "source": [
    "response"
   ]
  }
 ],
 "metadata": {
  "kernelspec": {
   "display_name": "Python 3",
   "language": "python",
   "name": "python3"
  },
  "language_info": {
   "codemirror_mode": {
    "name": "ipython",
    "version": 3
   },
   "file_extension": ".py",
   "mimetype": "text/x-python",
   "name": "python",
   "nbconvert_exporter": "python",
   "pygments_lexer": "ipython3",
   "version": "3.10.14"
  }
 },
 "nbformat": 4,
 "nbformat_minor": 2
}
