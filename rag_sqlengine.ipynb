{
 "cells": [
  {
   "cell_type": "code",
   "execution_count": 30,
   "metadata": {},
   "outputs": [],
   "source": [
    "import os\n",
    "from src.utils import read_config, MySQLAgent\n",
    "import openai\n",
    "from llama_index.llms.openai import OpenAI\n",
    "\n",
    "\n",
    "from llama_index.core import SQLDatabase, Settings\n",
    "from llama_index.core.query_engine import NLSQLTableQueryEngine, RouterQueryEngine\n",
    "from llama_index.embeddings.huggingface import HuggingFaceEmbedding\n",
    "from llama_index.core.tools import QueryEngineTool\n",
    "from llama_index.core.selectors import LLMSingleSelector\n",
    "\n",
    "from sqlalchemy import (\n",
    "   create_engine,\n",
    "   MetaData,\n",
    "   Table,\n",
    "   Column,\n",
    "   String,\n",
    "   Integer,\n",
    "   select,\n",
    "   column\n",
    ")"
   ]
  },
  {
   "cell_type": "code",
   "execution_count": 31,
   "metadata": {},
   "outputs": [],
   "source": [
    "info_path = '.env/info.json'\n",
    "info = read_config(info_path)\n",
    "\n",
    "O_KEY = info['openai']\n",
    "os.environ[\"OPENAI_API_KEY\"] = O_KEY\n",
    "openai.api_key = os.environ[\"OPENAI_API_KEY\"]\n",
    "\n",
    "conn_info = info['VM1_news_mysql_conn_info']\n",
    "sql_agent = MySQLAgent(conn_info)\n"
   ]
  },
  {
   "cell_type": "code",
   "execution_count": 32,
   "metadata": {},
   "outputs": [],
   "source": [
    "llm =  OpenAI(temperature=0.1, model=\"gpt-4o-mini\")"
   ]
  },
  {
   "cell_type": "code",
   "execution_count": 33,
   "metadata": {},
   "outputs": [],
   "source": [
    "model_name = \"sentence-transformers/distiluse-base-multilingual-cased-v1\"\n",
    "embed_model = HuggingFaceEmbedding(model_name=model_name)"
   ]
  },
  {
   "cell_type": "code",
   "execution_count": 34,
   "metadata": {},
   "outputs": [],
   "source": [
    "user = conn_info['user']\n",
    "pw = conn_info['pw']\n",
    "host = conn_info['host']\n",
    "port = conn_info['port']\n",
    "database = conn_info['database']\n",
    "connection_string = f\"mysql+pymysql://{user}:{pw}@{host}:{port}/{database}?charset=utf8mb4\"\n",
    "engine = create_engine(connection_string)\n",
    "\n",
    "tables = ['cdd_result']\n",
    "\n",
    "sql_database = SQLDatabase(engine, include_tables=tables)\n",
    "Settings.llm = llm\n",
    "Settings.embed_model = embed_model\n",
    "sql_query_engine = NLSQLTableQueryEngine(sql_database=sql_database, tables=tables)"
   ]
  },
  {
   "cell_type": "code",
   "execution_count": null,
   "metadata": {},
   "outputs": [],
   "source": [
    "prompt_template_str=\"\"\"\n",
    "\n",
    "\"\"\""
   ]
  },
  {
   "cell_type": "code",
   "execution_count": 35,
   "metadata": {},
   "outputs": [],
   "source": [
    "sql_tool = QueryEngineTool.from_defaults(\n",
    "   query_engine=sql_query_engine,\n",
    "   description=('當User詢問Cdd result的時候搜尋這個Table')\n",
    ")"
   ]
  },
  {
   "cell_type": "code",
   "execution_count": 36,
   "metadata": {},
   "outputs": [],
   "source": [
    "## RouterQueryEngine 去sql_tool尋找最合適的tool\n",
    "\n",
    "query_engine =  RouterQueryEngine(\n",
    "   selector=LLMSingleSelector.from_defaults(),\n",
    "   query_engine_tools=[sql_tool]\n",
    ")"
   ]
  },
  {
   "cell_type": "code",
   "execution_count": 37,
   "metadata": {},
   "outputs": [
    {
     "data": {
      "text/plain": [
       "'旭全發企業有限公司的資料共有128筆。'"
      ]
     },
     "execution_count": 37,
     "metadata": {},
     "output_type": "execute_result"
    }
   ],
   "source": [
    "query = \"\"\"旭全發企業有限公司有幾筆資料\"\"\"\n",
    "response = query_engine.query(query)\n",
    "response.response"
   ]
  },
  {
   "cell_type": "code",
   "execution_count": 45,
   "metadata": {},
   "outputs": [
    {
     "data": {
      "text/plain": [
       "'旭全發企業有限公司目前沒有任何綠燈資料。'"
      ]
     },
     "execution_count": 45,
     "metadata": {},
     "output_type": "execute_result"
    }
   ],
   "source": [
    "query = \"\"\"旭全發企業有限公司有幾筆綠燈資料\"\"\"\n",
    "response = query_engine.query(query)\n",
    "response.response"
   ]
  },
  {
   "cell_type": "code",
   "execution_count": 46,
   "metadata": {},
   "outputs": [
    {
     "data": {
      "text/plain": [
       "'旭全發企業有限公司有126筆light_status為green的資料。'"
      ]
     },
     "execution_count": 46,
     "metadata": {},
     "output_type": "execute_result"
    }
   ],
   "source": [
    "query = \"\"\"旭全發企業有限公司有幾筆light_status是green資料\"\"\"\n",
    "response = query_engine.query(query)\n",
    "response.response"
   ]
  },
  {
   "cell_type": "code",
   "execution_count": 47,
   "metadata": {},
   "outputs": [
    {
     "data": {
      "text/plain": [
       "Response(response='旭全發企業有限公司有126筆light_status為green的資料。', source_nodes=[NodeWithScore(node=TextNode(id_='feb0e716-ca19-4d6c-a08a-9717d9123698', embedding=None, metadata={'sql_query': \"SELECT COUNT(*) AS green_count FROM cdd_result WHERE company_name = '旭全發企業有限公司' AND light_status = 'green'\", 'result': [(126,)], 'col_keys': ['green_count']}, excluded_embed_metadata_keys=['sql_query', 'result', 'col_keys'], excluded_llm_metadata_keys=['sql_query', 'result', 'col_keys'], relationships={}, text='[(126,)]', mimetype='text/plain', start_char_idx=None, end_char_idx=None, text_template='{metadata_str}\\n\\n{content}', metadata_template='{key}: {value}', metadata_seperator='\\n'), score=None)], metadata={'feb0e716-ca19-4d6c-a08a-9717d9123698': {'sql_query': \"SELECT COUNT(*) AS green_count FROM cdd_result WHERE company_name = '旭全發企業有限公司' AND light_status = 'green'\", 'result': [(126,)], 'col_keys': ['green_count']}, 'sql_query': \"SELECT COUNT(*) AS green_count FROM cdd_result WHERE company_name = '旭全發企業有限公司' AND light_status = 'green'\", 'result': [(126,)], 'col_keys': ['green_count'], 'selector_result': MultiSelection(selections=[SingleSelection(index=0, reason=\"The summary indicates that when a user inquires about Cdd results, it involves searching a specific table, which implies that relevant data, such as the count of 'light_status' entries that are green, can be found in that table.\")])})"
      ]
     },
     "execution_count": 47,
     "metadata": {},
     "output_type": "execute_result"
    }
   ],
   "source": [
    "response"
   ]
  },
  {
   "cell_type": "code",
   "execution_count": 49,
   "metadata": {},
   "outputs": [],
   "source": [
    "metadata = response.metadata"
   ]
  }
 ],
 "metadata": {
  "kernelspec": {
   "display_name": "kira-project",
   "language": "python",
   "name": "python3"
  },
  "language_info": {
   "codemirror_mode": {
    "name": "ipython",
    "version": 3
   },
   "file_extension": ".py",
   "mimetype": "text/x-python",
   "name": "python",
   "nbconvert_exporter": "python",
   "pygments_lexer": "ipython3",
   "version": "3.10.14"
  }
 },
 "nbformat": 4,
 "nbformat_minor": 2
}
